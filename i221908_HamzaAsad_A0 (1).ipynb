{
  "cells": [
    {
      "cell_type": "markdown",
      "metadata": {
        "id": "amIMaAyLnfQl"
      },
      "source": [
        "What is JSON?.......................\n",
        "JavaScript Object Notation (JSON) is a standard text-based format for representing structured data based on JavaScript object syntax. It is commonly used for transmitting data in web applications (e.g., sending some data from the server to the client, so it can be displayed on a web page, or vice versa)."
      ]
    },
    {
      "cell_type": "code",
      "execution_count": null,
      "metadata": {
        "id": "ov_2Quuc6Wdk"
      },
      "outputs": [],
      "source": [
        "import json\n",
        "import string\n"
      ]
    },
    {
      "cell_type": "markdown",
      "metadata": {
        "id": "0Ti7A2NvNhSq"
      },
      "source": [
        "Read and parse the JavaScript Object Notation (JSON) data into a suitable\n",
        "Python data structure."
      ]
    },
    {
      "cell_type": "code",
      "execution_count": null,
      "metadata": {
        "id": "quiojgIPNiNh"
      },
      "outputs": [],
      "source": [
        "\n",
        "\n",
        "#function to read the JSON file\n",
        "def read_json_file(file_path):\n",
        "    try:\n",
        "        with open(file_path, 'r', encoding='utf-8') as json_file:\n",
        "            json_data_dict = {} #this dictionary will be used to store the valid JSON objects read from the file.\n",
        "            for line_number, line in enumerate(json_file, start=1):\n",
        "                try:\n",
        "                    json_object = json.loads(line)\n",
        "                    #assuming there's a unique identifier in each JSON object, use it as the key\n",
        "                    identifier = json_object.get(\"unique_identifier\", str(line_number))\n",
        "                    json_data_dict[identifier] = json_object\n",
        "                except json.JSONDecodeError: #if the line is not a valid JSON object, a JSONDecodeError shall be raised.\n",
        "                    continue #skips the line that doesnt correspond with the json template\n",
        "            return json_data_dict\n",
        "    except FileNotFoundError:\n",
        "        print(f\"Error: File '{file_path}' not found.\")\n",
        "        return None\n",
        "\n",
        "# Replace 'your_file_path.json' with the actual path to your JSON file\n",
        "json_data_dict = read_json_file('/content/Cell_Phones_and_Accessories_5.json')\n",
        "\n",
        "# Now, 'json_data_dict' contains only the valid JSON objects, excluding lines with extra data or decoding errors\n"
      ]
    },
    {
      "cell_type": "markdown",
      "metadata": {
        "id": "v-8EZm6UlNHJ"
      },
      "source": [
        "**Exploring data set**\n"
      ]
    },
    {
      "cell_type": "code",
      "execution_count": null,
      "metadata": {
        "colab": {
          "base_uri": "https://localhost:8080/"
        },
        "id": "C13YniWaZJnh",
        "outputId": "6df9c0ee-006e-432c-96ea-a782c8e1d22c"
      },
      "outputs": [
        {
          "output_type": "stream",
          "name": "stdout",
          "text": [
            "Dataset Size: 194439\n",
            "Columns in the Dataset: ['reviewerID', 'asin', 'reviewerName', 'helpful', 'reviewText', 'overall', 'summary', 'unixReviewTime', 'reviewTime']\n",
            "\n",
            "Sample of 30 Entries:\n",
            "Key: 1, Data: {'reviewText': \"They look good and stick good! I just don't like the rounded shape because I was always bumping it and Siri kept popping up and it was irritating. I just won't buy a product like this again\", 'overall': 4.0}\n",
            "Key: 2, Data: {'reviewText': 'These stickers work like the review says they do. They stick on great and they stay on the phone. They are super stylish and I can share them with my sister. :)', 'overall': 5.0}\n",
            "Key: 3, Data: {'reviewText': 'These are awesome and make my phone look so stylish! I have only used one so far and have had it on for almost a year! CAN YOU BELIEVE THAT! ONE YEAR!! Great quality!', 'overall': 5.0}\n",
            "Key: 4, Data: {'reviewText': \"Item arrived in great time and was in perfect condition. However, I ordered these buttons because they were a great deal and included a FREE screen protector. I never received one. Though its not a big deal, it would've been nice to get it since they claim it comes with one.\", 'overall': 4.0}\n",
            "Key: 5, Data: {'reviewText': 'awesome! stays on, and looks great. can be used on multiple apple products.  especially having nails, it helps to have an elevated key.', 'overall': 5.0}\n",
            "Key: 6, Data: {'reviewText': 'These make using the home button easy. My daughter and I both like them.  I would purchase them again. Well worth the price.', 'overall': 3.0}\n",
            "Key: 7, Data: {'reviewText': \"Came just as described.. It doesn't come unstuck and its cute! People ask where I got them from & it's great when driving.\", 'overall': 5.0}\n",
            "Key: 8, Data: {'reviewText': 'it worked for the first week then it only charge my phone to 20%. it is a waste of money.', 'overall': 1.0}\n",
            "Key: 9, Data: {'reviewText': \"Good case, solid build. Protects phone all around with good access to buttons. Battery charges with full battery lasts me a full day. I usually leave my house around 7am and return at 10pm. I'm glad that it lasts from start to end. 5/5\", 'overall': 5.0}\n",
            "Key: 10, Data: {'reviewText': 'This is a fantastic case. Very stylish and protects my phone. Easy access to all buttons and features, without any loss of phone reception. But most importantly, it double power, just as promised. Great buy', 'overall': 5.0}\n",
            "Key: 11, Data: {'reviewText': \"this case fits perfectly on the s4 and keeps me powerd all day I can't complain! a+ recommend it to all\", 'overall': 5.0}\n",
            "Key: 12, Data: {'reviewText': \"This is the first battery case I have had for my Galaxy S4. The S4 fits very well, is slim and doesn't add much weight to the Galaxy S4. It doubles the battery life. You can charge either the battery, the phone or both. There is a handy on-off switch with leds to indicate the level of charge.The battery case came on time and was packaged well. Well worth the price.\", 'overall': 5.0}\n",
            "Key: 13, Data: {'reviewText': \"Performs exactly as advertised . It's very  sturdily built,and provides lots of boost . It does exactly what it's supposed too .Easy to insert phone in and out . Definitely a 5 star experience. Don't know what I would do without this case LOVE LOVE LOVE it.\", 'overall': 5.0}\n",
            "Key: 14, Data: {'reviewText': \"Unlike Most of the Rechargeable Battery cases, PowerBear Lasts up to 2 whole days. It doesn't heat up like most of the other ones, and I was completely fascinated by the ultra light and sleek design for the case. Before I was using the Mophie case but I couldn't wear it often because it was like having a hot brick in your pocket, Hence I had to always leave it at home.On the contrary, with PowerBear, I never take it off because I can't even tell the difference. Also it is build in a super STRONG manner and even though I dropped my phone a few times, its shock resistant technology won't let a single thing happen to the case or the phone. The PowerBear case became an extension to my phone that I never have to take off because when I charge it at night, it charges both my phone and the case, and I have battery life for more than two days. I was also shocked to hear all the positive compliments I was hearing from people at my job, fitness center, and throughout the community. Everybody was loving the case, and what they don't know is that it cost  me 60 % CHEAPER then all the other brand. This is the best purchase I've made on the internet, and I am going to buy more for my family in time for the Holidays. THANK YOU POWERBEAR!!!!!!!!!!!!!!\", 'overall': 5.0}\n",
            "Key: 15, Data: {'reviewText': \"Just what I needed. I needed a phone case for myself and my two sons, but I also needed new replacement batteries. Now this isn't the case, since I got both in one. Awesome thanks A+\", 'overall': 5.0}\n",
            "Key: 16, Data: {'reviewText': 'When there is no outlets, or chargers near by its Powerbear to the rescue! Ordered one for my husband, and myself. Great purchase!!', 'overall': 5.0}\n",
            "Key: 17, Data: {'reviewText': \"It works great. Doesn't heat up like crazy like the other ones I got, and cheaper too! Its definetly the best power case for the S4 you can get, thats why I got one for me and my wife. I wonder why its called power bear..\", 'overall': 5.0}\n",
            "Key: 18, Data: {'reviewText': 'Surprisingly, this inexpensive version works just as well and just as reliably as the expensive variety. It has been working for me for months now. No problem. Excellent value.', 'overall': 5.0}\n",
            "Key: 19, Data: {'reviewText': 'I have tested this against the griffin dual output unit.I checked the charging current.This unit was charging my galaxy note battery with 70 ma.Griffin was charging with 40 ma! And the griffin was 4 times more expensive.I have not used these for very long. I bought 15 of them, because they are so cheap and because they actually do seem to provide high current.No idea how long they last. I assume they will work fine. I have not been using them much. I did the testing , just to stock up on a high current charger. This passed and I stocked up.', 'overall': 5.0}\n",
            "Key: 20, Data: {'reviewText': 'It worked great for the first couple of weeks then it just stopped completely.. so basically a small waste of money.', 'overall': 1.0}\n",
            "Key: 21, Data: {'reviewText': 'I love that it has two ports for my phone and ipod. Who wants to be putting too many things in one socket.  Sleek and convenient to store and I just love it.', 'overall': 5.0}\n",
            "Key: 22, Data: {'reviewText': 'just what you need, I am always having to charge my phone and then find I have another item to charge also.', 'overall': 5.0}\n",
            "Key: 23, Data: {'reviewText': 'does not have the need amps to charge things like ipads, or hp touchpads. but its super small and compact.', 'overall': 3.0}\n",
            "Key: 24, Data: {'reviewText': \"They are nothing special for sure, but it's nice that you can tell when it is powered up by the led that glows in it.  able to charge two phones at once in the car which is nice.\", 'overall': 4.0}\n",
            "Key: 25, Data: {'reviewText': 'I have several chargers. Have more than one vehicle so I keep more than one of these in each. Nothing more frustrating than finding all of a sudden one quits working, and you have no way to recharge your phone. That is always when you need it most.  This one works well for any of my products.', 'overall': 4.0}\n",
            "Key: 26, Data: {'reviewText': 'I bought this a little skeptical. After I tried it I bought two more. It works great and so far it has lasted for about 3 months. If that changes I will update this review.', 'overall': 5.0}\n",
            "Key: 27, Data: {'reviewText': \"I am disappointed that the 1A didn't work with my iPad.  That's what I get for buying a cheap adapter.\", 'overall': 2.0}\n",
            "Key: 28, Data: {'reviewText': 'This is a nice charger but you can tell it was made cheaply in China.  When it is charging the phone, the car radio gets LOTS of static.  Not so much that I have to stop charging but like when you are near power lines and the radio station is far away.So, no RF shielding.I gave it 4 stars because it works fine for me, but if you listen to the radio, you might consider it is more like 2 or 3 stars.', 'overall': 4.0}\n",
            "Key: 29, Data: {'reviewText': 'After a week only one side works', 'overall': 2.0}\n",
            "Key: 30, Data: {'reviewText': 'Yo get exactly what you order in a timely fashion. And the item is just as described. Great buy if you ask me', 'overall': 4.0}\n"
          ]
        }
      ],
      "source": [
        "\n",
        "def explore_and_filter_dataset(json_data_dict, sample_size=30):\n",
        "    if json_data_dict:\n",
        "\n",
        "        print(\"Dataset Size:\", len(json_data_dict))\n",
        "\n",
        "        #the first entry has all the columns, print their names\n",
        "        first_entry = next(iter(json_data_dict.values()), {})\n",
        "        column_names = list(first_entry.keys())\n",
        "        print(\"Columns in the Dataset:\", column_names)\n",
        "\n",
        "        necessary_columns = ['reviewText', 'overall']\n",
        "\n",
        "        #filter the dataset to keep necessary cols\n",
        "        filtered_data_dict = {key: {col: entry[col] for col in necessary_columns} for key, entry in json_data_dict.items()}\n",
        "\n",
        "        #printing sample of entries ; in this case = 30\n",
        "        print(f\"\\nSample of {sample_size} Entries:\")\n",
        "        for key, entry in list(filtered_data_dict.items())[:sample_size]:\n",
        "            print(f\"Key: {key}, Data: {entry}\")\n",
        "\n",
        "        return filtered_data_dict, necessary_columns\n",
        "    else:\n",
        "        print(\"Error: No data to explore.\")\n",
        "        return None, None\n",
        "\n",
        "#explore and filter the dataset\n",
        "filtered_data_dict, necessary_columns = explore_and_filter_dataset(json_data_dict)\n"
      ]
    },
    {
      "cell_type": "markdown",
      "metadata": {
        "id": "ss4iqeb-lPf1"
      },
      "source": [
        "**text processing**\n"
      ]
    },
    {
      "cell_type": "code",
      "execution_count": null,
      "metadata": {
        "colab": {
          "base_uri": "https://localhost:8080/"
        },
        "id": "FrXX7lymZOYC",
        "outputId": "71aed0b3-8752-4efc-bd9b-cc84a51a67c2"
      },
      "outputs": [
        {
          "output_type": "stream",
          "name": "stdout",
          "text": [
            "\n",
            "Sample of Entries After Text Preprocessing:\n",
            "Key: 1, Data: {'reviewText': 'they look good and stick good i just dont like the rounded shape because i was always bumping it and siri kept popping up and it was irritating i just wont buy a product like this again', 'overall': 4.0}\n",
            "Key: 2, Data: {'reviewText': 'these stickers work like the review says they do they stick on great and they stay on the phone they are super stylish and i can share them with my sister ', 'overall': 5.0}\n",
            "Key: 3, Data: {'reviewText': 'these are awesome and make my phone look so stylish i have only used one so far and have had it on for almost a year can you believe that one year great quality', 'overall': 5.0}\n",
            "Key: 4, Data: {'reviewText': 'item arrived in great time and was in perfect condition however i ordered these buttons because they were a great deal and included a free screen protector i never received one though its not a big deal it wouldve been nice to get it since they claim it comes with one', 'overall': 4.0}\n",
            "Key: 5, Data: {'reviewText': 'awesome stays on and looks great can be used on multiple apple products  especially having nails it helps to have an elevated key', 'overall': 5.0}\n",
            "Key: 6, Data: {'reviewText': 'these make using the home button easy my daughter and i both like them  i would purchase them again well worth the price', 'overall': 3.0}\n",
            "Key: 7, Data: {'reviewText': 'came just as described it doesnt come unstuck and its cute people ask where i got them from  its great when driving', 'overall': 5.0}\n",
            "Key: 8, Data: {'reviewText': 'it worked for the first week then it only charge my phone to 20 it is a waste of money', 'overall': 1.0}\n",
            "Key: 9, Data: {'reviewText': 'good case solid build protects phone all around with good access to buttons battery charges with full battery lasts me a full day i usually leave my house around 7am and return at 10pm im glad that it lasts from start to end 55', 'overall': 5.0}\n",
            "Key: 10, Data: {'reviewText': 'this is a fantastic case very stylish and protects my phone easy access to all buttons and features without any loss of phone reception but most importantly it double power just as promised great buy', 'overall': 5.0}\n",
            "Key: 11, Data: {'reviewText': 'this case fits perfectly on the s4 and keeps me powerd all day i cant complain a recommend it to all', 'overall': 5.0}\n",
            "Key: 12, Data: {'reviewText': 'this is the first battery case i have had for my galaxy s4 the s4 fits very well is slim and doesnt add much weight to the galaxy s4 it doubles the battery life you can charge either the battery the phone or both there is a handy onoff switch with leds to indicate the level of chargethe battery case came on time and was packaged well well worth the price', 'overall': 5.0}\n",
            "Key: 13, Data: {'reviewText': 'performs exactly as advertised  its very  sturdily builtand provides lots of boost  it does exactly what its supposed too easy to insert phone in and out  definitely a 5 star experience dont know what i would do without this case love love love it', 'overall': 5.0}\n",
            "Key: 14, Data: {'reviewText': 'unlike most of the rechargeable battery cases powerbear lasts up to 2 whole days it doesnt heat up like most of the other ones and i was completely fascinated by the ultra light and sleek design for the case before i was using the mophie case but i couldnt wear it often because it was like having a hot brick in your pocket hence i had to always leave it at homeon the contrary with powerbear i never take it off because i cant even tell the difference also it is build in a super strong manner and even though i dropped my phone a few times its shock resistant technology wont let a single thing happen to the case or the phone the powerbear case became an extension to my phone that i never have to take off because when i charge it at night it charges both my phone and the case and i have battery life for more than two days i was also shocked to hear all the positive compliments i was hearing from people at my job fitness center and throughout the community everybody was loving the case and what they dont know is that it cost  me 60  cheaper then all the other brand this is the best purchase ive made on the internet and i am going to buy more for my family in time for the holidays thank you powerbear', 'overall': 5.0}\n",
            "Key: 15, Data: {'reviewText': 'just what i needed i needed a phone case for myself and my two sons but i also needed new replacement batteries now this isnt the case since i got both in one awesome thanks a', 'overall': 5.0}\n",
            "Key: 16, Data: {'reviewText': 'when there is no outlets or chargers near by its powerbear to the rescue ordered one for my husband and myself great purchase', 'overall': 5.0}\n",
            "Key: 17, Data: {'reviewText': 'it works great doesnt heat up like crazy like the other ones i got and cheaper too its definetly the best power case for the s4 you can get thats why i got one for me and my wife i wonder why its called power bear', 'overall': 5.0}\n",
            "Key: 18, Data: {'reviewText': 'surprisingly this inexpensive version works just as well and just as reliably as the expensive variety it has been working for me for months now no problem excellent value', 'overall': 5.0}\n",
            "Key: 19, Data: {'reviewText': 'i have tested this against the griffin dual output uniti checked the charging currentthis unit was charging my galaxy note battery with 70 magriffin was charging with 40 ma and the griffin was 4 times more expensivei have not used these for very long i bought 15 of them because they are so cheap and because they actually do seem to provide high currentno idea how long they last i assume they will work fine i have not been using them much i did the testing  just to stock up on a high current charger this passed and i stocked up', 'overall': 5.0}\n",
            "Key: 20, Data: {'reviewText': 'it worked great for the first couple of weeks then it just stopped completely so basically a small waste of money', 'overall': 1.0}\n",
            "Key: 21, Data: {'reviewText': 'i love that it has two ports for my phone and ipod who wants to be putting too many things in one socket  sleek and convenient to store and i just love it', 'overall': 5.0}\n",
            "Key: 22, Data: {'reviewText': 'just what you need i am always having to charge my phone and then find i have another item to charge also', 'overall': 5.0}\n",
            "Key: 23, Data: {'reviewText': 'does not have the need amps to charge things like ipads or hp touchpads but its super small and compact', 'overall': 3.0}\n",
            "Key: 24, Data: {'reviewText': 'they are nothing special for sure but its nice that you can tell when it is powered up by the led that glows in it  able to charge two phones at once in the car which is nice', 'overall': 4.0}\n",
            "Key: 25, Data: {'reviewText': 'i have several chargers have more than one vehicle so i keep more than one of these in each nothing more frustrating than finding all of a sudden one quits working and you have no way to recharge your phone that is always when you need it most  this one works well for any of my products', 'overall': 4.0}\n",
            "Key: 26, Data: {'reviewText': 'i bought this a little skeptical after i tried it i bought two more it works great and so far it has lasted for about 3 months if that changes i will update this review', 'overall': 5.0}\n",
            "Key: 27, Data: {'reviewText': 'i am disappointed that the 1a didnt work with my ipad  thats what i get for buying a cheap adapter', 'overall': 2.0}\n",
            "Key: 28, Data: {'reviewText': 'this is a nice charger but you can tell it was made cheaply in china  when it is charging the phone the car radio gets lots of static  not so much that i have to stop charging but like when you are near power lines and the radio station is far awayso no rf shieldingi gave it 4 stars because it works fine for me but if you listen to the radio you might consider it is more like 2 or 3 stars', 'overall': 4.0}\n",
            "Key: 29, Data: {'reviewText': 'after a week only one side works', 'overall': 2.0}\n",
            "Key: 30, Data: {'reviewText': 'yo get exactly what you order in a timely fashion and the item is just as described great buy if you ask me', 'overall': 4.0}\n"
          ]
        }
      ],
      "source": [
        "\n",
        "#manually including the list of stop words\n",
        "stopwords = \"\"\"\n",
        "i me my myself we our ours ourselves you your yours yourself yourselves\n",
        "he him his himself she her hers herself it its itself they them their theirs\n",
        "themselves what which who whom this that these those am is are was were be\n",
        "been being have has had having do does did doing a an the and but if or because\n",
        "as until while of at by for with about against between into through during\n",
        "before after above below to from up down in out on off over under again further\n",
        "then once here there when where why how all any both each few more most other\n",
        "some such no nor not only own same so than too very s t can will just don should now\n",
        "\"\"\".split()\n",
        "\n",
        "#text preprocessing to the 'reviewText' column for thematic analysis\n",
        "def preprocess_text_thematic(text):\n",
        "    translator = str.maketrans('', '', string.punctuation)\n",
        "    return text.translate(translator).lower()\n",
        "\n",
        "\n",
        "for key, entry in filtered_data_dict.items():\n",
        "    filtered_data_dict[key]['reviewText'] = preprocess_text_thematic(entry['reviewText'])\n",
        "\n",
        "#samples after text processing\n",
        "print(f\"\\nSample of Entries After Text Preprocessing:\")\n",
        "for key, entry in list(filtered_data_dict.items())[:30]:\n",
        "    print(f\"Key: {key}, Data: {entry}\")\n"
      ]
    },
    {
      "cell_type": "markdown",
      "metadata": {
        "id": "p7WoUDg3PbfA"
      },
      "source": [
        "**Thematic Analysis**\n"
      ]
    },
    {
      "cell_type": "code",
      "execution_count": null,
      "metadata": {
        "colab": {
          "base_uri": "https://localhost:8080/"
        },
        "id": "EXvT7UC9Palm",
        "outputId": "948dc6b5-5fcc-4bf1-9c84-088f8979e432"
      },
      "outputs": [
        {
          "output_type": "stream",
          "name": "stdout",
          "text": [
            "\n",
            "Top Positive Phrases:\n",
            "phone: 133060\n",
            "case: 109127\n",
            "one: 66801\n",
            "great: 59181\n",
            "like: 56142\n",
            "use: 48113\n",
            "battery: 46205\n",
            "good: 46087\n",
            "screen: 46036\n",
            "well: 41158\n",
            "\n",
            "Top Negative Phrases:\n",
            "phone: 20632\n",
            "case: 16608\n",
            "one: 10293\n",
            "would: 8261\n",
            "like: 7445\n",
            "get: 7290\n",
            "screen: 7198\n",
            "use: 6143\n",
            "product: 5709\n",
            "battery: 5617\n"
          ]
        }
      ],
      "source": [
        "\n",
        "def thematic_analysis(data):\n",
        "    positive_phrases = {}  #to store positive phrases and their frequencies\n",
        "    negative_phrases = {}  #to store negative phrases and their frequencies\n",
        "\n",
        "    for key, entry in data.items():\n",
        "        review_text = entry.get('reviewText', '')\n",
        "\n",
        "        #'overall' is the column containing the rating\n",
        "        rating = entry.get('overall', 0)\n",
        "\n",
        "        #setting a threshold\n",
        "        positive_threshold = 4.0\n",
        "        negative_threshold = 2.0\n",
        "\n",
        "        if rating >= positive_threshold:\n",
        "            #tokenizing the review text into words\n",
        "            words = review_text.split()\n",
        "\n",
        "            #count the frequency of each word in positive reviews\n",
        "            for word in words:\n",
        "                if word not in stopwords:\n",
        "                    positive_phrases[word] = positive_phrases.get(word, 0) + 1\n",
        "\n",
        "        elif rating <= negative_threshold:\n",
        "            #tokenizing the review text into words\n",
        "            words = review_text.split()\n",
        "\n",
        "            #count the frequency of each word in negative reviews\n",
        "            for word in words:\n",
        "                if word not in stopwords:\n",
        "                    negative_phrases[word] = negative_phrases.get(word, 0) + 1\n",
        "\n",
        "    #phrases by frequency sorted\n",
        "    sorted_positive_phrases = sorted(positive_phrases.items(), key=lambda x: x[1], reverse=True)\n",
        "    sorted_negative_phrases = sorted(negative_phrases.items(), key=lambda x: x[1], reverse=True)\n",
        "\n",
        "    return sorted_positive_phrases, sorted_negative_phrases\n",
        "\n",
        "#thematic analysis on the filtered data\n",
        "positive_phrases, negative_phrases = thematic_analysis(filtered_data_dict)\n",
        "\n",
        "#print the top positive and negative phrases\n",
        "print(\"\\nTop Positive Phrases:\")\n",
        "for phrase, frequency in positive_phrases[:10]:\n",
        "    print(f\"{phrase}: {frequency}\")\n",
        "\n",
        "print(\"\\nTop Negative Phrases:\")\n",
        "for phrase, frequency in negative_phrases[:10]:\n",
        "    print(f\"{phrase}: {frequency}\")\n"
      ]
    },
    {
      "cell_type": "markdown",
      "metadata": {
        "id": "Q5uAh9ffnI2l"
      },
      "source": [
        "**sentiment ANALYSIS**"
      ]
    },
    {
      "cell_type": "code",
      "execution_count": null,
      "metadata": {
        "colab": {
          "base_uri": "https://localhost:8080/"
        },
        "id": "N0t7GPJOnKg3",
        "outputId": "1b58b46d-e4ae-46cb-afea-db8a4d6f5e14"
      },
      "outputs": [
        {
          "output_type": "stream",
          "name": "stdout",
          "text": [
            "\n",
            "Sample of Entries After Sentiment Analysis:\n",
            "Key: 1, Sentiment Score: 1.6, Sentiment Label: Positive\n",
            "Key: 2, Sentiment Score: 0.8, Sentiment Label: Positive\n",
            "Key: 3, Sentiment Score: 1.65, Sentiment Label: Positive\n",
            "Key: 4, Sentiment Score: 1.6, Sentiment Label: Positive\n",
            "Key: 5, Sentiment Score: 1.65, Sentiment Label: Positive\n",
            "Key: 6, Sentiment Score: 0, Sentiment Label: Neutral\n",
            "Key: 7, Sentiment Score: 0.8, Sentiment Label: Positive\n",
            "Key: 8, Sentiment Score: 0, Sentiment Label: Neutral\n",
            "Key: 9, Sentiment Score: 1.6, Sentiment Label: Positive\n",
            "Key: 10, Sentiment Score: 1.65, Sentiment Label: Positive\n",
            "Key: 11, Sentiment Score: 0, Sentiment Label: Neutral\n",
            "Key: 12, Sentiment Score: 0, Sentiment Label: Neutral\n",
            "Key: 13, Sentiment Score: 2.4000000000000004, Sentiment Label: Positive\n",
            "Key: 14, Sentiment Score: 0.85, Sentiment Label: Positive\n",
            "Key: 15, Sentiment Score: 0.85, Sentiment Label: Positive\n",
            "Key: 16, Sentiment Score: 0.8, Sentiment Label: Positive\n",
            "Key: 17, Sentiment Score: 0.8, Sentiment Label: Positive\n",
            "Key: 18, Sentiment Score: 0.9, Sentiment Label: Positive\n",
            "Key: 19, Sentiment Score: 0, Sentiment Label: Neutral\n",
            "Key: 20, Sentiment Score: 0.8, Sentiment Label: Positive\n",
            "Key: 21, Sentiment Score: 1.6, Sentiment Label: Positive\n",
            "Key: 22, Sentiment Score: 0, Sentiment Label: Neutral\n",
            "Key: 23, Sentiment Score: 0, Sentiment Label: Neutral\n",
            "Key: 24, Sentiment Score: 0, Sentiment Label: Neutral\n",
            "Key: 25, Sentiment Score: 0, Sentiment Label: Neutral\n",
            "Key: 26, Sentiment Score: 0.8, Sentiment Label: Positive\n",
            "Key: 27, Sentiment Score: 0, Sentiment Label: Neutral\n",
            "Key: 28, Sentiment Score: 0, Sentiment Label: Neutral\n",
            "Key: 29, Sentiment Score: 0, Sentiment Label: Neutral\n",
            "Key: 30, Sentiment Score: 0.8, Sentiment Label: Positive\n"
          ]
        }
      ],
      "source": [
        "#dictionaries with word weights for sentiment analysis\n",
        "positive_word_weights = {\n",
        "    'good': 0.8,\n",
        "    'excellent': 0.9,\n",
        "    'positive': 0.85,\n",
        "    'amazing': 0.9,\n",
        "    'fantastic': 0.85,\n",
        "    'outstanding': 0.9,\n",
        "    'love': 0.8,\n",
        "    'great': 0.8,\n",
        "    'awesome': 0.85,\n",
        "    'happy': 0.75,\n",
        "\n",
        "}\n",
        "\n",
        "negative_word_weights = {\n",
        "    'bad': -0.1,\n",
        "    'poor': -0.2,\n",
        "    'negative': -0.15,\n",
        "    'horrible': -0.2,\n",
        "    'awful': -0.2,\n",
        "    'terrible': -0.2,\n",
        "    'disappointing': -0.15,\n",
        "    'hate': -0.2,\n",
        "    'dislike': -0.15,\n",
        "    'regret': -0.15,\n",
        "\n",
        "}\n",
        "\n",
        "#Rule-based sentiment analysis function\n",
        "def rule_based_sentiment_analysis(review, positive_weights, negative_weights):\n",
        "    words = review.split()\n",
        "    score = 0\n",
        "\n",
        "    for word in words:\n",
        "        #check if the word is in the positive or negative dictionaries\n",
        "        if word.lower() in positive_weights:\n",
        "            score += positive_weights[word.lower()]\n",
        "        elif word.lower() in negative_weights:\n",
        "            score += negative_weights[word.lower()]\n",
        "\n",
        "    return score\n",
        "\n",
        "#sentiment analysis to each review in the filtered data\n",
        "for key, entry in filtered_data_dict.items():\n",
        "    review_text = entry.get('reviewText', '')\n",
        "    sentiment_score = rule_based_sentiment_analysis(review_text, positive_word_weights, negative_word_weights)\n",
        "\n",
        "    #sentiment label based on the threshold assigning\n",
        "    threshold = 0.5\n",
        "    sentiment_label = 'Positive' if sentiment_score > threshold else 'Negative' if sentiment_score < -threshold else 'Neutral'\n",
        "\n",
        "    #Updating  the entry with sentiment information\n",
        "    entry['sentiment_score'] = sentiment_score\n",
        "    entry['sentiment_label'] = sentiment_label\n",
        "\n",
        "#sample of entries with sentiment analysis results printed\n",
        "print(\"\\nSample of Entries After Sentiment Analysis:\")\n",
        "for key, entry in list(filtered_data_dict.items())[:30]:\n",
        "    print(f\"Key: {key}, Sentiment Score: {entry.get('sentiment_score', 0)}, Sentiment Label: {entry.get('sentiment_label', 'Neutral')}\")\n"
      ]
    },
    {
      "cell_type": "markdown",
      "metadata": {
        "id": "s3VBJXyMCO1i"
      },
      "source": [
        "**storage**"
      ]
    },
    {
      "cell_type": "code",
      "execution_count": null,
      "metadata": {
        "id": "yTiGe9H2CJky",
        "colab": {
          "base_uri": "https://localhost:8080/"
        },
        "outputId": "76d4fe35-ddf1-4dae-fcff-87827399dfaa"
      },
      "outputs": [
        {
          "output_type": "stream",
          "name": "stdout",
          "text": [
            "Results saved to /content/sentiment_results.txt\n"
          ]
        }
      ],
      "source": [
        "#save the end result in a text file\n",
        "output_file_path = '/content/sentiment_results.txt'\n",
        "\n",
        "with open(output_file_path, 'w', encoding='utf-8') as output_file:\n",
        "    for key, entry in json_data_dict.items():\n",
        "        review_text = entry.get('reviewText', '')\n",
        "        sentiment_label = entry.get('sentiment_label', 'Neutral')\n",
        "        output_line = f\"Sentiment: {sentiment_label}\\nReview Text: {review_text}\\n\\n\"\n",
        "        output_file.write(output_line)\n",
        "\n",
        "print(f\"Results saved to {output_file_path}\")\n"
      ]
    }
  ],
  "metadata": {
    "colab": {
      "provenance": []
    },
    "kernelspec": {
      "display_name": "Python 3",
      "name": "python3"
    },
    "language_info": {
      "name": "python"
    }
  },
  "nbformat": 4,
  "nbformat_minor": 0
}